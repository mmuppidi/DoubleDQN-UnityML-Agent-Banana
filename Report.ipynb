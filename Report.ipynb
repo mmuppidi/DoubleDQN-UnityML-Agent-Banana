{
 "cells": [
  {
   "cell_type": "markdown",
   "metadata": {},
   "source": [
    "# Project 1: Navigation\n",
    "\n",
    "The goal of this project is train an agent to navigate and collect yellow bananas from Unity ML-Agents toolkit Bananas environment.\n",
    "\n",
    "### Environment:\n",
    "\n",
    "The environment is a large square world filled with yellow and blue bananas. The goal of the agent is to collect as many yellow bananas as possible while avoiding blue bananas. At every step the agent has access to the state of the environment. The size of the state space is 37. State observed by the agent is ray-based perception of objects around it's forward direction and its velocity.\n",
    "\n",
    "The actions that agent can take at a point in time are one of move forward, move backward, turn left and turn right; so size of the action space is 4. If the agent collects a yellow banana it receives +1 reward and -1 reward for collecting blue banana. The task is episodic and in order to solve the environment, your agent must get an average score of +13 over 100 consecutive episodes."
   ]
  },
  {
   "cell_type": "code",
   "execution_count": 1,
   "metadata": {},
   "outputs": [],
   "source": [
    "from unityagents import UnityEnvironment\n",
    "import numpy as np\n",
    "from collections import deque\n",
    "import matplotlib.pyplot as plt\n",
    "import torch\n",
    "%matplotlib inline"
   ]
  },
  {
   "cell_type": "code",
   "execution_count": 2,
   "metadata": {},
   "outputs": [
    {
     "name": "stderr",
     "output_type": "stream",
     "text": [
      "INFO:unityagents:\n",
      "'Academy' started successfully!\n",
      "Unity Academy name: Academy\n",
      "        Number of Brains: 1\n",
      "        Number of External Brains : 1\n",
      "        Lesson number : 0\n",
      "        Reset Parameters :\n",
      "\t\t\n",
      "Unity brain name: BananaBrain\n",
      "        Number of Visual Observations (per agent): 0\n",
      "        Vector Observation space type: continuous\n",
      "        Vector Observation space size (per agent): 37\n",
      "        Number of stacked Vector Observation: 1\n",
      "        Vector Action space type: discrete\n",
      "        Vector Action space size (per agent): 4\n",
      "        Vector Action descriptions: , , , \n"
     ]
    }
   ],
   "source": [
    "env = UnityEnvironment(file_name=\"Banana.app\")\n",
    "# get the default brain\n",
    "brain_name = env.brain_names[0]\n",
    "brain = env.brains[brain_name]"
   ]
  },
  {
   "cell_type": "code",
   "execution_count": 3,
   "metadata": {},
   "outputs": [
    {
     "name": "stdout",
     "output_type": "stream",
     "text": [
      "Number of agents: 1\n",
      "Number of actions: 4\n",
      "States look like: [1.         0.         0.         0.         0.84408134 0.\n",
      " 0.         1.         0.         0.0748472  0.         1.\n",
      " 0.         0.         0.25755    1.         0.         0.\n",
      " 0.         0.74177343 0.         1.         0.         0.\n",
      " 0.25854847 0.         0.         1.         0.         0.09355672\n",
      " 0.         1.         0.         0.         0.31969345 0.\n",
      " 0.        ]\n",
      "States have length: 37\n"
     ]
    }
   ],
   "source": [
    "# reset the environment\n",
    "env_info = env.reset(train_mode=True)[brain_name]\n",
    "\n",
    "# number of agents in the environment\n",
    "print('Number of agents:', len(env_info.agents))\n",
    "\n",
    "# number of actions\n",
    "action_size = brain.vector_action_space_size\n",
    "print('Number of actions:', action_size)\n",
    "\n",
    "# examine the state space \n",
    "state = env_info.vector_observations[0]\n",
    "print('States look like:', state)\n",
    "state_size = len(state)\n",
    "print('States have length:', state_size)"
   ]
  },
  {
   "cell_type": "code",
   "execution_count": 4,
   "metadata": {},
   "outputs": [],
   "source": [
    "def plot_scores(scores):\n",
    "    \"\"\" Helper function for plotting the score at the end\n",
    "    \"\"\"\n",
    "    fig = plt.figure()\n",
    "    ax = fig.add_subplot(111)\n",
    "    plt.plot(np.arange(len(scores)), scores)\n",
    "    plt.ylabel('Score')\n",
    "    plt.xlabel('Episode #')\n",
    "    plt.show()"
   ]
  },
  {
   "cell_type": "code",
   "execution_count": 5,
   "metadata": {},
   "outputs": [],
   "source": [
    "# this is imporvement on the practice code provided by the instructor\n",
    "from solution.double_dqn_agent import Agent, LR\n",
    "agent = Agent(state_size=state_size, action_size=action_size, seed=0)"
   ]
  },
  {
   "cell_type": "markdown",
   "metadata": {},
   "source": [
    "### Approach\n",
    "\n",
    "Agent is trained using Deep Reinforcement algorithm Double Deep Q-Learning. In the next sections I will talk about the Double Q-Learning.\n",
    "\n",
    "#### Q-Learning\n",
    "\n",
    "<img src=\"submission/docs/images/env_agent_interaction_q_table.png\" style=\"width:400px;height:200px;\">\n",
    "\n",
    "$Q$-Learning is a basic Reinforcement learning techinique. It is simple and easy to implement, especially if our states are discrete and the state space is small. To start with the agent provides random actions as input to the environment and bulids a table which eventually helps it in making the right decisions. The table is called as a Q table. Each row in the table has information about a unique state and its corresponding action Q-value pairs, for all possible actions when the vehicle is in that state. The Q values are values that are learned by the agent from the feedback provided by the environment. The agent first looks at all the action Q value pairs for that state, then chooses the action with highest Q value and sends it to the vehicle. The vehicle then sends back a reward and next state so that the agent can update the Q value for the action in the table. The equation for updating the Q value is given by\n",
    "\n",
    "\\begin{equation}\n",
    " Q(s_{t},a_{t}) := Q(s_{t},a_{t}) + \\alpha(R_{t+1} + \\gamma\\max_{a\\in A}Q(s_{t+1},a) - Q(s_{t},a_{t})) \n",
    "\\label{q-learning-rule}\n",
    "\\end{equation}\n",
    "\n",
    "Where   \n",
    "  $Q$ is $Q$ function,  \n",
    "  $R_{t+1}$ is reward received,   \n",
    "  $\\alpha$ is Learning rate,      \n",
    "  $\\gamma$ is Discount factor,  \n",
    "  $s_{t}$ is current state,  \n",
    "  $s_{t+1}$ is future state,  \n",
    "  $a_{t}$ is current action,  \n",
    "  $a$ is action. \n",
    "\n",
    "#### Deep Q-Network (DQN)\n",
    "\n",
    "In  Q-Learning the intelligence acquired by the agent is stored in the form of a table. This approach is not scalable and is only good for learning environment which has smaller state space. To make it scalable a tabular value functio can be replaced by $Q(s_{t},a_{t};\\theta_{t})$, a parameterized value function (neural network), can be used.\n",
    "\n",
    "<img src=\"submission/docs/images/env_agent_interaction_q_netwrok.png\" style=\"width:400px;height:200px;\"> \n",
    "\n",
    "The parameters can be updated by the following rule\n",
    "\n",
    "\\begin{equation}\n",
    " \\theta_{t+1} = \\theta_{t} + \\alpha(Y^{Q}_{t} - Q(s_{t},a_{t};\\theta_{t})) \n",
    "\\label{q-learning-rule-basic}\n",
    "\\end{equation}\n",
    "\n",
    "\\begin{equation}\n",
    "    Y^{Q}_{t} = R_{t+1} + \\gamma\\max_{a}Q(s_{t+1},a;\\theta_{t})\n",
    "\\label{target}\n",
    "\\end{equation}\n",
    "\n",
    "Where   \n",
    "  $Q(s_{t},a_{t};\\theta_{t})$ is a parameterized value function,  \n",
    "  $\\theta_{t}$ is current parameters of value function,  \n",
    "  $R$ is reward received,   \n",
    "  $\\alpha$ is Learning rate,      \n",
    "  $\\gamma$ is Discount factor,  \n",
    "  $s_{t}$ is current state,  \n",
    "  $s_{t+1}$ is future state,  \n",
    "  $a_{t}$ is current action,  \n",
    "  $a$ is action. \n",
    "\n",
    "To make the network more stable Mnih et al. (2015) proposed using a seperate target network from the online network for updating the parameters. In practice target network, $\\theta^{-}_{t}$, is a delayed snapshot of online network. Here is the updated target.\n",
    "\n",
    "\\begin{equation}\n",
    "    Y^{Q}_{t} = R_{t+1} + \\gamma\\max_{a}Q(s_{t+1},a;\\theta^{-}_{t})\n",
    "\\label{target-new}\n",
    "\\end{equation}\n",
    "\n",
    "\n",
    "**Replay Memory**  \n",
    "In practice, DQN algorithm stores the last N experience tuples in the replay memory, and samples uniformly at random from the memory when performing updates. This approach is in some respects limited because the memory buffer does not differentiate important transitions and always overwrites with recent transitions owing to the finite memory size N. Similarly, the uniform sampling gives equal importance to all transitions in the replay memory.A more sophisticated sampling strategy might emphasize transitions from which we can learn the most, similar to prioritized sweeping.[1]\n",
    "\n",
    "#### Double DQN\n",
    "The max operator in standard Q-learning and DQN uses the same values both to select and to evaluate an action. This makes it more likely to select overestimated values, resulting in overoptimistic value estimates. Decoupling the selection from the evaluation will fix this. This is the idea behind Double Q-learning [3]. In [2] van Hasselt et al extend the same for DQN.\n",
    "\n",
    "\\begin{equation}\n",
    "    Y^{DoubleQ}_{t} = R_{t+1} + \\gamma\\max_{a}Q(s_{t+1},a;\\theta^{'}_{t})\n",
    "\\label{target-double-basic}\n",
    "\\end{equation}\n",
    "\n",
    "This looks similar to our updated target network equation from DQN. Instead of creating a new network, van Hasselt et al in [2], suggest using $Q(s_{t+1},a;\\theta_{t})$ from DQN for selection. Here is updated Double DQN target function\n",
    "\n",
    "\\begin{equation}\n",
    "    Y^{DoubleQ}_{t} = R_{t+1} + \\gamma Q(s_{t+1},{argmax}_{a} Q(s_{t+1},a;\\theta_{t});\\theta^{-}_{t})\n",
    "\\label{target-double}\n",
    "\\end{equation}\n",
    "\n",
    "Update equation for double DQN parameter value function is \n",
    "\n",
    "\\begin{equation}\n",
    " \\theta_{t+1} = \\theta_{t} + \\alpha(R_{t+1} + \\gamma Q(s_{t+1},{argmax}_{a} Q(s_{t+1},a;\\theta_{t});\\theta^{-}_{t}) - Q(s_{t},a_{t};\\theta_{t})) \n",
    "\\label{doubledqn-update-rule}\n",
    "\\end{equation}\n",
    "\n",
    "#### Model Architecture\n",
    "For the parameterized value function I used the following architecture where FC is a Fully connected layer and ReLu is a Rectified Linear Unit\n",
    "\n",
    "\\begin{equation}\n",
    "    [State]_{(1\\times37)}  \\longrightarrow [FC]_{(37\\times64)} \\longrightarrow [ReLu] \\longrightarrow [FC]_{(64\\times64)} \\longrightarrow [ReLu] \\longrightarrow [FC]_{(64\\times4)} \\longrightarrow [ActionValues]_{(1\\times4)}\n",
    "\\label{model}\n",
    "\\end{equation}\n",
    "\n",
    "#### Hyperparameters\n",
    "\n",
    "|Parameter|Description|Value|\n",
    "|:---:|:---:|:---:|\n",
    "|Buffer size|Size of the replay memory|100000|\n",
    "|Batch size|Size of the mini batches|64|\n",
    "|$\\gamma$|Discount factor|0.99|\n",
    "|$\\alpha$|Learning Rate|0.00025|\n",
    "|Update frequency|How often to update the network|4|\n",
    "|Initial $\\epsilon$| Initial exploration factor|1.0|\n",
    "|Final $\\epsilon$| Final exploration factor|0.01|\n",
    "|$\\epsilon$ decay| Rate at which \\epsilon decays |0.995|\n",
    "\n",
    "One modification over the actual DQN implementation is instead of copying the online network into target network after every n steps, we update the target network slowly after every step.\n",
    "\n",
    "** some componenets of the report are taken from my own project [4]"
   ]
  },
  {
   "cell_type": "markdown",
   "metadata": {},
   "source": [
    "## Training the model"
   ]
  },
  {
   "cell_type": "code",
   "execution_count": 6,
   "metadata": {},
   "outputs": [
    {
     "name": "stdout",
     "output_type": "stream",
     "text": [
      "Episode 100\tAverage Score: 0.53\n",
      "Episode 200\tAverage Score: 3.55\n",
      "Episode 300\tAverage Score: 7.29\n",
      "Episode 400\tAverage Score: 11.05\n",
      "Episode 500\tAverage Score: 12.75\n",
      "Episode 600\tAverage Score: 13.77\n",
      "Episode 700\tAverage Score: 15.22\n",
      "Episode 800\tAverage Score: 13.50\n",
      "Episode 900\tAverage Score: 14.20\n",
      "Episode 1000\tAverage Score: 14.23\n"
     ]
    },
    {
     "data": {
      "image/png": "[encoded data removed]",
      "text/plain": [
       "<Figure size 432x288 with 1 Axes>"
      ]
     },
     "metadata": {
      "needs_background": "light"
     },
     "output_type": "display_data"
    }
   ],
   "source": [
    "def doubledqn(n_episodes=1000, max_t=1000, eps_start=1.0, eps_end=0.01, eps_decay=0.995):\n",
    "    \"\"\"Double Deep Q-Learning.\n",
    "    \n",
    "    Params\n",
    "    ======\n",
    "        n_episodes (int): maximum number of training episodes\n",
    "        max_t (int): maximum number of timesteps per episode\n",
    "        eps_start (float): starting value of epsilon, for epsilon-greedy action selection\n",
    "        eps_end (float): minimum value of epsilon\n",
    "        eps_decay (float): multiplicative factor (per episode) for decreasing epsilon\n",
    "    \"\"\"\n",
    "    scores = []                        # list containing scores from each episode\n",
    "    scores_window = deque(maxlen=100)  # last 100 scores\n",
    "    best_score = 13.0\n",
    "    eps = eps_start                    # initialize epsilon\n",
    "    for i_episode in range(1, n_episodes+1):\n",
    "        env_info = env.reset(train_mode=True)[brain_name]\n",
    "        state = env_info.vector_observations[0]\n",
    "        score = 0\n",
    "        for t in range(max_t):\n",
    "            action_theta, action = agent.act(state, eps)\n",
    "            #next_state, reward, done, _ = env.step(action)\n",
    "            \n",
    "            env_info = env.step(action)[brain_name]        # send the action to the environment\n",
    "            next_state = env_info.vector_observations[0]   # get the next state\n",
    "            reward = env_info.rewards[0]                   # get the reward\n",
    "            done = env_info.local_done[0]                  # see if episode has finished\n",
    "            \n",
    "            agent.step(state, action, action_theta, reward, next_state, done)\n",
    "            state = next_state\n",
    "            score += reward\n",
    "            if done:\n",
    "                break \n",
    "        scores_window.append(score)       # save most recent score\n",
    "        scores.append(score)              # save most recent score\n",
    "        eps = max(eps_end, eps_decay*eps) # decrease epsilon\n",
    "        print('\\rEpisode {}\\tAverage Score: {:.2f}'.format(i_episode, np.mean(scores_window)), end=\"\")\n",
    "        if i_episode % 100 == 0:\n",
    "            print('\\rEpisode {}\\tAverage Score: {:.2f}'.format(i_episode, np.mean(scores_window)))\n",
    "        if np.mean(scores_window)>= best_score*1.1 : # save the weights if the rolling mean increased more than 10% \n",
    "            best_score = np.mean(scores_window)\n",
    "            torch.save(agent.qnetwork_local.state_dict(), 'double_dqn_checkpoint.pth')\n",
    "\n",
    "    return scores\n",
    "\n",
    "scores = doubledqn()\n",
    "plot_scores(scores)"
   ]
  },
  {
   "cell_type": "markdown",
   "metadata": {},
   "source": [
    "## Running the model"
   ]
  },
  {
   "cell_type": "code",
   "execution_count": 8,
   "metadata": {},
   "outputs": [
    {
     "name": "stdout",
     "output_type": "stream",
     "text": [
      "Score: 16.0\n"
     ]
    }
   ],
   "source": [
    "# load the weights from file\n",
    "agent.qnetwork_local.load_state_dict(torch.load('dqn_checkpoint.pth'))\n",
    "\n",
    "env_info = env.reset(train_mode=False)[brain_name] # reset the environment\n",
    "state = env_info.vector_observations[0]            # get the current state\n",
    "score = 0                                          # initialize the score\n",
    "while True:\n",
    "    _, action = agent.act(state)                   # select an action\n",
    "    env_info = env.step(action)[brain_name]        # send the action to the environment\n",
    "    next_state = env_info.vector_observations[0]   # get the next state\n",
    "    reward = env_info.rewards[0]                   # get the reward\n",
    "    done = env_info.local_done[0]                  # see if episode has finished\n",
    "    score += reward                                # update the score\n",
    "    state = next_state                             # roll over the state to next time step\n",
    "    if done:                                       # exit loop if episode finished\n",
    "        break\n",
    "    \n",
    "print(\"Score: {}\".format(score))"
   ]
  },
  {
   "cell_type": "markdown",
   "metadata": {},
   "source": [
    "### Conclusion\n",
    "\n",
    "In this project I have implemented a Double DQN to build an agent which can play the Unity ML-Agents toolkit Bananas environment. The agent learns to complete the episode after 600 episodes. The agent consistently acheives a final reward of around 14."
   ]
  },
  {
   "cell_type": "markdown",
   "metadata": {},
   "source": [
    "### Future steps\n",
    "\n",
    "- After a lot of experimentation I have observed that training the Double DQN for more than 1500 episodes deteriorates the performance of the network. I am not why this has happened, futher analysis need to be done.\n",
    "- Explore if using other versions of DQN like the ones with Prioritized Experience Replay, Distributed DQN, Dueling DQN would import agent perforance or make it learn faster.\n"
   ]
  },
  {
   "cell_type": "markdown",
   "metadata": {},
   "source": [
    "\n",
    "### References\n",
    "\n",
    "[1] [Human-level control through deep reinforcement learning by Mnih et al.](https://www.nature.com/articles/nature14236)  \n",
    "[2] [Deep Reinforcement Learning with Double Q-learning by van Hasselt et al.](https://arxiv.org/abs/1509.06461)  \n",
    "[3] [Double Q-learning by van Hasselt et al.](https://papers.nips.cc/paper/3964-double-q-learning)\n",
    "[4] [DQN-Atari-Pong submission](https://github.com/mmuppidi/DQN-Atari-Pong)"
   ]
  },
  {
   "cell_type": "code",
   "execution_count": null,
   "metadata": {},
   "outputs": [],
   "source": []
  }
 ],
 "metadata": {
  "kernelspec": {
   "display_name": "drlnd",
   "language": "python",
   "name": "drlnd"
  },
  "language_info": {
   "codemirror_mode": {
    "name": "ipython",
    "version": 3
   },
   "file_extension": ".py",
   "mimetype": "text/x-python",
   "name": "python",
   "nbconvert_exporter": "python",
   "pygments_lexer": "ipython3",
   "version": "3.6.6"
  }
 },
 "nbformat": 4,
 "nbformat_minor": 2
}
